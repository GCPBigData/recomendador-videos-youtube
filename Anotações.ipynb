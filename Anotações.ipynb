{
 "cells": [
  {
   "cell_type": "markdown",
   "metadata": {},
   "source": [
    "# Recomendador de videos do Youtube\n",
    "\n",
    "#### Qual o problema?\n",
    "     Gastar muito tempo buscando novos vídeos no youtube.\n",
    "     \n",
    "#### Qual  a solução ideal?\n",
    "     Ter uma lista apenas dos vídeos que eu vou gostar.\n",
    "\n",
    "#### Como posso fazer isso com Data Science/Machine Learning?\n",
    "     Criando uma solução de recomendador que busca os vídeos todos os dias no youtube e envia para mim.\n",
    "     \n",
    "#### Como essa solução será usada em produção?\n",
    "     web app com os vídeos (link) e as previsões ordenadas\n",
    "* Abordagens\n",
    "  - Ponto de corte -> retorna os top 'n'\n",
    "  - Ranking -> Ordena os vídeos mais interessantes primeiro\n",
    "\n",
    "#### Como eu vou saber que deu certo?\n",
    "     Métrica primária: Dos top n vídeos quantos eu coloco na lista de watch later.\n",
    "     Os top n recomendados são mais assistidos que os top N da busca do youtube.\n",
    "     Métrica(s) secundária(s): Quanto tempo eu passo selecionando vídeos.\n",
    "     \n",
    "### Portifólio\n",
    "\n",
    "#### Como escolher o problema para trabalhar?\n",
    "* Problema simples\n",
    "    - Recomendação (aumento de vendas)\n",
    "    - Time Series (previsão de demanda, acessos no site, cancelamento, etc)\n",
    "\n",
    "\n",
    "* Quais seus interesses?\n",
    "    - Em que área você gostaria de trabalhar?\n",
    "\n",
    "\n",
    "* Quão fácil é encontrar dados para essa solução?\n",
    "    - Kaggle, Google Dataset Search\n",
    "    - Usar scraping para coletar dados\n",
    "    \n",
    "    \n",
    "* Fazer uma lista de \"fontes de informação\" ideais\n",
    "\n",
    "\n",
    "* Qual o mínimo de dados que eu preciso?\n",
    "    - Caracteristicas dos vídeos (título) e uma label, anotação\n",
    "* Como vou pegar os vídeos?\n",
    "    - Queries = [machine learning, kaggle, data science]"
   ]
  }
 ],
 "metadata": {
  "kernelspec": {
   "display_name": "Python 3",
   "language": "python",
   "name": "python3"
  },
  "language_info": {
   "codemirror_mode": {
    "name": "ipython",
    "version": 3
   },
   "file_extension": ".py",
   "mimetype": "text/x-python",
   "name": "python",
   "nbconvert_exporter": "python",
   "pygments_lexer": "ipython3",
   "version": "3.7.6"
  }
 },
 "nbformat": 4,
 "nbformat_minor": 4
}
