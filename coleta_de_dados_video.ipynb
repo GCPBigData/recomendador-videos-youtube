{
 "cells": [
  {
   "cell_type": "code",
   "execution_count": 1,
   "metadata": {},
   "outputs": [],
   "source": [
    "import pandas as pd\n",
    "import numpy as np\n",
    "import re\n",
    "import time\n",
    "import datetime\n",
    "import requests as rq"
   ]
  },
  {
   "cell_type": "code",
   "execution_count": 2,
   "metadata": {},
   "outputs": [
    {
     "data": {
      "text/html": [
       "<div>\n",
       "<style scoped>\n",
       "    .dataframe tbody tr th:only-of-type {\n",
       "        vertical-align: middle;\n",
       "    }\n",
       "\n",
       "    .dataframe tbody tr th {\n",
       "        vertical-align: top;\n",
       "    }\n",
       "\n",
       "    .dataframe thead th {\n",
       "        text-align: right;\n",
       "    }\n",
       "</style>\n",
       "<table border=\"1\" class=\"dataframe\">\n",
       "  <thead>\n",
       "    <tr style=\"text-align: right;\">\n",
       "      <th></th>\n",
       "      <th>title</th>\n",
       "      <th>webpage_url</th>\n",
       "      <th>upload_date</th>\n",
       "      <th>view_count</th>\n",
       "    </tr>\n",
       "  </thead>\n",
       "  <tbody>\n",
       "    <tr>\n",
       "      <th>0</th>\n",
       "      <td>Qual a diferença entre Inteligência Artificial...</td>\n",
       "      <td>https://www.youtube.com/watch?v=ccZ2pyr3YDw</td>\n",
       "      <td>2019-08-23</td>\n",
       "      <td>147552</td>\n",
       "    </tr>\n",
       "    <tr>\n",
       "      <th>1</th>\n",
       "      <td>O que é Machine Learning? #HipstersPontoTube</td>\n",
       "      <td>https://www.youtube.com/watch?v=Iuz_jc96bQk</td>\n",
       "      <td>2019-04-22</td>\n",
       "      <td>53585</td>\n",
       "    </tr>\n",
       "    <tr>\n",
       "      <th>2</th>\n",
       "      <td>Machine Learning Basics | What Is Machine Lear...</td>\n",
       "      <td>https://www.youtube.com/watch?v=ukzFI9rgwfU</td>\n",
       "      <td>2018-09-19</td>\n",
       "      <td>1374034</td>\n",
       "    </tr>\n",
       "    <tr>\n",
       "      <th>3</th>\n",
       "      <td>Machine Learning Zero to Hero (Google I/O'19)</td>\n",
       "      <td>https://www.youtube.com/watch?v=VwVg9jCtqaU</td>\n",
       "      <td>2019-05-09</td>\n",
       "      <td>875233</td>\n",
       "    </tr>\n",
       "    <tr>\n",
       "      <th>4</th>\n",
       "      <td>Seu primeiro código de Machine Learning com Py...</td>\n",
       "      <td>https://www.youtube.com/watch?v=DNegkxwQJuY</td>\n",
       "      <td>2019-07-08</td>\n",
       "      <td>31882</td>\n",
       "    </tr>\n",
       "  </tbody>\n",
       "</table>\n",
       "</div>"
      ],
      "text/plain": [
       "                                               title  \\\n",
       "0  Qual a diferença entre Inteligência Artificial...   \n",
       "1       O que é Machine Learning? #HipstersPontoTube   \n",
       "2  Machine Learning Basics | What Is Machine Lear...   \n",
       "3      Machine Learning Zero to Hero (Google I/O'19)   \n",
       "4  Seu primeiro código de Machine Learning com Py...   \n",
       "\n",
       "                                   webpage_url upload_date  view_count  \n",
       "0  https://www.youtube.com/watch?v=ccZ2pyr3YDw  2019-08-23      147552  \n",
       "1  https://www.youtube.com/watch?v=Iuz_jc96bQk  2019-04-22       53585  \n",
       "2  https://www.youtube.com/watch?v=ukzFI9rgwfU  2018-09-19     1374034  \n",
       "3  https://www.youtube.com/watch?v=VwVg9jCtqaU  2019-05-09      875233  \n",
       "4  https://www.youtube.com/watch?v=DNegkxwQJuY  2019-07-08       31882  "
      ]
     },
     "execution_count": 2,
     "metadata": {},
     "output_type": "execute_result"
    }
   ],
   "source": [
    "df = pd.read_feather(\"raw_data.feather\")\n",
    "df.head()"
   ]
  },
  {
   "cell_type": "code",
   "execution_count": 4,
   "metadata": {},
   "outputs": [
    {
     "data": {
      "text/plain": [
       "81"
      ]
     },
     "execution_count": 4,
     "metadata": {},
     "output_type": "execute_result"
    }
   ],
   "source": [
    "lista_de_links = df['webpage_url'].unique()\n",
    "len(lista_de_links)"
   ]
  },
  {
   "cell_type": "code",
   "execution_count": null,
   "metadata": {},
   "outputs": [],
   "source": [
    " "
   ]
  }
 ],
 "metadata": {
  "kernelspec": {
   "display_name": "Python 3",
   "language": "python",
   "name": "python3"
  },
  "language_info": {
   "codemirror_mode": {
    "name": "ipython",
    "version": 3
   },
   "file_extension": ".py",
   "mimetype": "text/x-python",
   "name": "python",
   "nbconvert_exporter": "python",
   "pygments_lexer": "ipython3",
   "version": "3.7.6"
  }
 },
 "nbformat": 4,
 "nbformat_minor": 4
}
